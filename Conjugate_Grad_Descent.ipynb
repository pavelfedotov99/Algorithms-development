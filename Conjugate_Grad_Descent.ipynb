{
  "nbformat": 4,
  "nbformat_minor": 0,
  "metadata": {
    "kernelspec": {
      "display_name": "Python 3",
      "language": "python",
      "name": "python3"
    },
    "language_info": {
      "codemirror_mode": {
        "name": "ipython",
        "version": 3
      },
      "file_extension": ".py",
      "mimetype": "text/x-python",
      "name": "python",
      "nbconvert_exporter": "python",
      "pygments_lexer": "ipython3",
      "version": "3.6.11"
    },
    "colab": {
      "name": "Conjugate_Grad_Descent.ipynb",
      "provenance": []
    }
  },
  "cells": [
    {
      "cell_type": "code",
      "metadata": {
        "id": "UZKw83hKE4FG"
      },
      "source": [
        "import numpy as np\n",
        "import matplotlib.pyplot as plt"
      ],
      "execution_count": null,
      "outputs": []
    },
    {
      "cell_type": "code",
      "metadata": {
        "id": "pUemwgpSE4FL"
      },
      "source": [
        "alpha = np.random.uniform(0,1)\n",
        "betta = np.random.uniform(0,1)\n",
        "eps = 0.001\n",
        "\n",
        "k = np.array([i for i in range(101)])\n",
        "xk = k/100\n",
        "delta = np.random.normal(0, 1, size=len(xk))\n",
        "yk = alpha*xk + betta + delta"
      ],
      "execution_count": null,
      "outputs": []
    },
    {
      "cell_type": "code",
      "metadata": {
        "id": "96rcMKXjE4FL"
      },
      "source": [
        "def linear(x,a,b):\n",
        "    return a*x+b"
      ],
      "execution_count": null,
      "outputs": []
    },
    {
      "cell_type": "code",
      "metadata": {
        "id": "hFR3ftV5E4FL"
      },
      "source": [
        "def rational(x,a,b):\n",
        "    return a/(1+b*x)"
      ],
      "execution_count": null,
      "outputs": []
    },
    {
      "cell_type": "code",
      "metadata": {
        "id": "AdGCpgKdE4FM"
      },
      "source": [
        "def grad_Dlin(a, b):\n",
        "    return np.array([DerivDA(a, b), DerivDB(a, b)])"
      ],
      "execution_count": null,
      "outputs": []
    },
    {
      "cell_type": "code",
      "metadata": {
        "id": "8lcJ8FVoE4FM"
      },
      "source": [
        "def DerivDB(a, b):\n",
        "    DerivB = 2*a*np.sum(xk)-2*np.sum(yk)+2*b*101\n",
        "    return DerivB"
      ],
      "execution_count": null,
      "outputs": []
    },
    {
      "cell_type": "code",
      "metadata": {
        "id": "YEOIXFqrE4FM"
      },
      "source": [
        "def DerivDA(a, b):\n",
        "    DerivA = 2*a*(np.sum(xk)**2)+2*b*np.sum(xk)-2*np.sum(xk)*np.sum(yk)\n",
        "    return DerivA"
      ],
      "execution_count": null,
      "outputs": []
    },
    {
      "cell_type": "code",
      "metadata": {
        "id": "PWqtlg79E4FM"
      },
      "source": [
        "def D(a, b):\n",
        "    DFunc = (a**2)*(np.sum(xk)**2)+2*a*b*np.sum(xk)-2*a*np.sum(xk)*np.sum(yk)-2*b*np.sum(yk)+101*b**2+np.sum(yk)**2\n",
        "    return DFunc"
      ],
      "execution_count": null,
      "outputs": []
    },
    {
      "cell_type": "code",
      "metadata": {
        "id": "cNHOBF3mE4FN"
      },
      "source": [
        "def DRat(a, b):\n",
        "\treturn np.sum((rational(xk, a, b) - yk)**2)"
      ],
      "execution_count": null,
      "outputs": []
    },
    {
      "cell_type": "code",
      "metadata": {
        "id": "OTovnKjFE4FN"
      },
      "source": [
        "def grad_DRat(a, b):\n",
        "    return np.array([DerivRatDA(a, b), DerivRatDB(a, b)])"
      ],
      "execution_count": null,
      "outputs": []
    },
    {
      "cell_type": "code",
      "metadata": {
        "id": "dWEzLEE0E4FN"
      },
      "source": [
        "def DerivRatDA(a, b):\n",
        "\treturn 2*np.sum(a/(1 + b*xk)**2 - yk/(1 + b*xk))"
      ],
      "execution_count": null,
      "outputs": []
    },
    {
      "cell_type": "code",
      "metadata": {
        "id": "3Sfx3k_FE4FN"
      },
      "source": [
        "def DerivRatDB(a, b):\n",
        "\treturn 2*np.sum(-a**2*xk/(1 + b*xk)**3 + a*xk*yk/(1 + b*xk)**2)"
      ],
      "execution_count": null,
      "outputs": []
    },
    {
      "cell_type": "code",
      "metadata": {
        "id": "J--wkCK7E4FN"
      },
      "source": [
        "def ConjugateGradDescentLin(e):\n",
        "    FuncCalcs = 1\n",
        "    gamma = 0.00001\n",
        "    point = [np.array([0.1, 0.1], dtype = float)]\n",
        "    GradAB = [-grad_Dlin(point[-1][0], point[-1][1])]\n",
        "\n",
        "    alpha = np.arange(gamma, e, gamma)\n",
        "\n",
        "    MinOfF = D(point[-1][0] + alpha[0] * GradAB[-1][0], point[-1][1] + alpha[0] * GradAB[-1][1])\n",
        "\n",
        "    Alpha0 = alpha[0]\n",
        "    for i in alpha:\n",
        "        DVal = D(point[-1][0] + i*GradAB[-1][0], point[-1][1] + i*GradAB[-1][1])\n",
        "        if DVal < MinOfF:\n",
        "            MinOfF = DVal\n",
        "            Alpha0 = i\n",
        "\n",
        "    Step = Alpha0\n",
        "    point += [point[-1] + Step*GradAB[-1]]\n",
        "    S = [GradAB[-1]]\n",
        "    while np.linalg.norm(point[-2] - point[-1]) > e:\n",
        "        GradAB += [-grad_Dlin(point[-1][0], point[-1][1])]\n",
        "        bet = np.sum(GradAB[-1] ** 2) / np.sum(GradAB[-2] ** 2)\n",
        "        S += [GradAB[-1] + bet * S[-1]]\n",
        "\n",
        "        alpha = np.arange(gamma, e, gamma)\n",
        "\n",
        "        MinOfF = D(point[-1][0] + alpha[0] * S[-1][0], point[-1][1] + alpha[0] * S[-1][1])\n",
        "\n",
        "        Alpha0 = alpha[0]\n",
        "        for i in alpha:\n",
        "            DVal = D(point[-1][0] + i * S[-1][0], point[-1][1] + i * S[-1][1])\n",
        "            if DVal < MinOfF:\n",
        "                MinOfF = DVal\n",
        "                Alpha0 = i\n",
        "\n",
        "        Step = Alpha0\n",
        "        point += [point[-1] + Step * S[-1]]\n",
        "        FuncCalcs += 1\n",
        "    return point[-1]"
      ],
      "execution_count": null,
      "outputs": []
    },
    {
      "cell_type": "code",
      "metadata": {
        "id": "eHmetU-rE4FO"
      },
      "source": [
        "def ConjugateGradDescentRat(e):\n",
        "    FuncCalcs = 1\n",
        "    gamma = 0.00001\n",
        "    point = [np.array([0.1, 0.1], dtype = float)]\n",
        "\n",
        "    GradAB = [-grad_DRat(point[-1][0], point[-1][1])]\n",
        "\n",
        "    alpha = np.arange(gamma, e, gamma)\n",
        "\n",
        "    MinOfF = DRat(point[-1][0] + alpha[0] * GradAB[-1][0], point[-1][1] + alpha[0] * GradAB[-1][1])\n",
        "\n",
        "    Alpha0 = alpha[0]\n",
        "    for i in alpha:\n",
        "        DVal = DRat(point[-1][0] + i*GradAB[-1][0], point[-1][1] + i*GradAB[-1][1])\n",
        "        if DVal < MinOfF:\n",
        "            MinOfF = DVal\n",
        "            Alpha0 = i\n",
        "\n",
        "    Step = Alpha0\n",
        "    point += [point[-1] + Step*GradAB[-1]]\n",
        "\n",
        "    S = [GradAB[-1]]\n",
        "\n",
        "    while np.linalg.norm(point[-2] - point[-1]) > e:\n",
        "        GradAB += [-grad_DRat(point[-1][0], point[-1][1])]\n",
        "        bet = np.sum(GradAB[-1] ** 2) / np.sum(GradAB[-2] ** 2)\n",
        "        S += [GradAB[-1] + bet * S[-1]]\n",
        "\n",
        "        alpha = np.arange(gamma, e, gamma)\n",
        "\n",
        "        MinOfF = DRat(point[-1][0] + alpha[0] * S[-1][0], point[-1][1] + alpha[0] * S[-1][1])\n",
        "\n",
        "        Alpha0 = alpha[0]\n",
        "        for i in alpha:\n",
        "            DVal = DRat(point[-1][0] + i * S[-1][0], point[-1][1] + i * S[-1][1])\n",
        "            if DVal < MinOfF:\n",
        "                MinOfF = DVal\n",
        "                Alpha0 = i\n",
        "\n",
        "        Step = Alpha0\n",
        "        point += [point[-1] + Step * S[-1]]\n",
        "        FuncCalcs += 1\n",
        "    return point[-1]"
      ],
      "execution_count": null,
      "outputs": []
    },
    {
      "cell_type": "code",
      "metadata": {
        "id": "665h0aXyE4FO",
        "outputId": "aea2eda6-a9a9-48c0-cebe-a26c772f4335"
      },
      "source": [
        "ConjugateGradDescentRat(0.001)"
      ],
      "execution_count": null,
      "outputs": [
        {
          "output_type": "execute_result",
          "data": {
            "text/plain": [
              "array([1.00848893, 0.13470959])"
            ]
          },
          "metadata": {
            "tags": []
          },
          "execution_count": 18
        }
      ]
    },
    {
      "cell_type": "code",
      "metadata": {
        "id": "XQNTFgx_E4FP"
      },
      "source": [
        "xx1=np.empty(101)\n",
        "for i in range(101):\n",
        "    xx1[i] = rational(i/100,1,0.1924717)"
      ],
      "execution_count": null,
      "outputs": []
    },
    {
      "cell_type": "code",
      "metadata": {
        "id": "rMFVAQ7iE4FP",
        "outputId": "064d18e3-1d19-47af-e366-01fe7e4f7694"
      },
      "source": [
        "plt.plot(xk,yk,'o')\n",
        "plt.plot(xk,xx1)"
      ],
      "execution_count": null,
      "outputs": [
        {
          "output_type": "execute_result",
          "data": {
            "text/plain": [
              "[<matplotlib.lines.Line2D at 0x7fb93ec2b898>]"
            ]
          },
          "metadata": {
            "tags": []
          },
          "execution_count": 22
        },
        {
          "output_type": "display_data",
          "data": {
            "image/png": "[encoded data removed]",
            "text/plain": [
              "<Figure size 432x288 with 1 Axes>"
            ]
          },
          "metadata": {
            "tags": [],
            "needs_background": "light"
          }
        }
      ]
    }
  ]
}