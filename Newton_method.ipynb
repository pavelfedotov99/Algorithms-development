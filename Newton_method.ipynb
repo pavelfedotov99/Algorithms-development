{
  "nbformat": 4,
  "nbformat_minor": 0,
  "metadata": {
    "kernelspec": {
      "display_name": "Python 3",
      "language": "python",
      "name": "python3"
    },
    "language_info": {
      "codemirror_mode": {
        "name": "ipython",
        "version": 3
      },
      "file_extension": ".py",
      "mimetype": "text/x-python",
      "name": "python",
      "nbconvert_exporter": "python",
      "pygments_lexer": "ipython3",
      "version": "3.6.11"
    },
    "colab": {
      "name": "Newton_method.ipynb",
      "provenance": []
    }
  },
  "cells": [
    {
      "cell_type": "code",
      "metadata": {
        "id": "vgmk7KgzFP3F"
      },
      "source": [
        "import numpy as np\n",
        "import matplotlib.pyplot as plt"
      ],
      "execution_count": null,
      "outputs": []
    },
    {
      "cell_type": "code",
      "metadata": {
        "id": "t_DnAkbsFP3K"
      },
      "source": [
        "alpha = np.random.uniform(0,1)\n",
        "betta = np.random.uniform(0,1)\n",
        "eps = 0.001\n",
        "\n",
        "k = np.array([i for i in range(101)])\n",
        "xk = k/100\n",
        "delta = np.random.normal(0, 1, size=len(xk))\n",
        "yk = alpha*xk + betta + delta"
      ],
      "execution_count": null,
      "outputs": []
    },
    {
      "cell_type": "code",
      "metadata": {
        "id": "lzihEjCRFP3K"
      },
      "source": [
        "def linear(x,a,b):\n",
        "    return a*x+b"
      ],
      "execution_count": null,
      "outputs": []
    },
    {
      "cell_type": "code",
      "metadata": {
        "id": "-5NtafzZFP3L"
      },
      "source": [
        "def rational(x,a,b):\n",
        "    return a/(1+b*x)"
      ],
      "execution_count": null,
      "outputs": []
    },
    {
      "cell_type": "code",
      "metadata": {
        "id": "8zVdUL4NFP3L"
      },
      "source": [
        "def grad_Dlin(a, b):\n",
        "    return np.array([DerivDA(a, b), DerivDB(a, b)])"
      ],
      "execution_count": null,
      "outputs": []
    },
    {
      "cell_type": "code",
      "metadata": {
        "id": "pQfxhQE_FP3L"
      },
      "source": [
        "def DerivDA(a, b):\n",
        "    DerivA = 2*a*(np.sum(xk)**2)+2*b*np.sum(xk)-2*np.sum(xk)*np.sum(yk)\n",
        "    return DerivA"
      ],
      "execution_count": null,
      "outputs": []
    },
    {
      "cell_type": "code",
      "metadata": {
        "id": "LFnZxjnpFP3L"
      },
      "source": [
        "def DerivDB(a, b):\n",
        "    DerivB = 2*a*np.sum(xk)-2*np.sum(yk)+2*b*101\n",
        "    return DerivB"
      ],
      "execution_count": null,
      "outputs": []
    },
    {
      "cell_type": "code",
      "metadata": {
        "id": "gPfjL5PjFP3M"
      },
      "source": [
        "def grad_DRat(a, b):\n",
        "    return np.array([DerivRatDA(a, b), DerivRatDB(a, b)])"
      ],
      "execution_count": null,
      "outputs": []
    },
    {
      "cell_type": "code",
      "metadata": {
        "id": "v6xB5Ip4FP3M"
      },
      "source": [
        "def DerivRatDA(a, b):\n",
        "\treturn 2*np.sum(a/(1 + b*xk)**2 - yk/(1 + b*xk))"
      ],
      "execution_count": null,
      "outputs": []
    },
    {
      "cell_type": "code",
      "metadata": {
        "id": "8wupdswyFP3M"
      },
      "source": [
        "def DerivRatDB(a, b):\n",
        "\treturn 2*np.sum(-a**2*xk/(1 + b*xk)**3 + a*xk*yk/(1 + b*xk)**2)"
      ],
      "execution_count": null,
      "outputs": []
    },
    {
      "cell_type": "code",
      "metadata": {
        "id": "b1UL-qTDFP3M"
      },
      "source": [
        "def HessianLinD(a, b):\n",
        "    return np.array([[Deriv2AA(a, b), Deriv2AB(a, b)], [Deriv2BA(a, b), Deriv2BB(a, b)]])"
      ],
      "execution_count": null,
      "outputs": []
    },
    {
      "cell_type": "code",
      "metadata": {
        "id": "xIDyFHO0FP3M"
      },
      "source": [
        "def Deriv2AA(a, b):\n",
        "    Deriv2 = 2*(np.sum(xk)**2)\n",
        "    return Deriv2\n",
        "def Deriv2AB(a, b):\n",
        "    Deriv2 = 2*(np.sum(xk))\n",
        "    return Deriv2\n",
        "def Deriv2BA(a, b):\n",
        "    Deriv2 = 2*(np.sum(xk))\n",
        "    return Deriv2\n",
        "def Deriv2BB(a, b):\n",
        "    return 2*101"
      ],
      "execution_count": null,
      "outputs": []
    },
    {
      "cell_type": "code",
      "metadata": {
        "id": "uNFAIwErFP3N"
      },
      "source": [
        "def HessianRatD(a, b):\n",
        "    return np.array([[Deriv2RatAA(a, b), Deriv2RatAB(a, b)], [Deriv2RatBA(a, b), Deriv2RatBB(a, b)]])"
      ],
      "execution_count": null,
      "outputs": []
    },
    {
      "cell_type": "code",
      "metadata": {
        "id": "BRmd6stwFP3N"
      },
      "source": [
        "def Deriv2RatAA(a, b):\n",
        "    return 2*np.sum(1/(1 + b*xk)**2)\n",
        "def Deriv2RatAB(a, b):\n",
        "    return 2*np.sum(-2*a*xk/(1 + b*xk)**3 + xk*yk/(1 + b*xk)**2)\n",
        "def Deriv2RatBA(a, b):\n",
        "    return 2*np.sum(-2*a*xk/(1 + b*xk)**3 + xk*yk/(1 + b*xk)**2)\n",
        "def Deriv2RatBB(a, b):\n",
        "    return 2*np.sum(3*a**2*xk**2/(1 + b*xk)**4 - 2*a*xk**2*yk/(1 + b*xk)**3)"
      ],
      "execution_count": null,
      "outputs": []
    },
    {
      "cell_type": "code",
      "metadata": {
        "id": "GBITGH8lFP3N"
      },
      "source": [
        "def NewtonsMethodLin(e):\n",
        "    FuncCalcs = 1\n",
        "    point = [np.array([3, 3], dtype=float)]\n",
        "\n",
        "    point += [point[-1] - np.dot(np.linalg.inv(HessianLinD(point[-1][0], point[-1][1])), grad_Dlin(point[-1][0], point[-1][1]))]\n",
        "    while np.linalg.norm(point[-2] - point[-1]) > e:\n",
        "        point += [point[-1] - np.dot(np.linalg.inv(HessianD(point[-1][0], point[-1][1])), grad_Dlin(point[-1][0], point[-1][1]))]\n",
        "        FuncCalcs += 1\n",
        "    return point[-1]"
      ],
      "execution_count": null,
      "outputs": []
    },
    {
      "cell_type": "code",
      "metadata": {
        "id": "uszapiYZFP3N"
      },
      "source": [
        "def NewtonsMethodRat(e):\n",
        "    FuncCalcs = 1\n",
        "    point = [np.array([0.1, 0.1], dtype=float)]\n",
        "\n",
        "    point += [point[-1] - np.dot(np.linalg.inv(HessianRatD(point[-1][0], point[-1][1])), grad_DRat(point[-1][0], point[-1][1]))]\n",
        "    while np.linalg.norm(point[-2] - point[-1]) > e :\n",
        "        point += [point[-1] - np.dot(np.linalg.inv(HessianRatD(point[-1][0], point[-1][1])), grad_DRat(point[-1][0], point[-1][1]))]\n",
        "        FuncCalcs += 1\n",
        "    return point[-1]"
      ],
      "execution_count": null,
      "outputs": []
    },
    {
      "cell_type": "code",
      "metadata": {
        "id": "wlSg1epvFP3O",
        "outputId": "c602c2cf-eaea-4efd-9612-a9c091658948"
      },
      "source": [
        "NewtonsMethodRat(0.001)"
      ],
      "execution_count": null,
      "outputs": [
        {
          "output_type": "execute_result",
          "data": {
            "text/plain": [
              "array([6.63892885e-19, 7.82775051e+01])"
            ]
          },
          "metadata": {
            "tags": []
          },
          "execution_count": 67
        }
      ]
    },
    {
      "cell_type": "code",
      "metadata": {
        "id": "4FyZiNOoFP3O"
      },
      "source": [
        "xx1=np.empty(101)\n",
        "for i in range(101):\n",
        "    xx1[i] = rational(i/100,6.63892885e-19,7.82775051e+01)"
      ],
      "execution_count": null,
      "outputs": []
    },
    {
      "cell_type": "code",
      "metadata": {
        "id": "AGSNuU5RFP3O",
        "outputId": "eb73b407-f429-4e9f-87d9-16fab3ba7c98"
      },
      "source": [
        "plt.plot(xk,yk,'o')\n",
        "plt.plot(xk,xx1)"
      ],
      "execution_count": null,
      "outputs": [
        {
          "output_type": "execute_result",
          "data": {
            "text/plain": [
              "[<matplotlib.lines.Line2D at 0x7f1ab56f44a8>]"
            ]
          },
          "metadata": {
            "tags": []
          },
          "execution_count": 69
        },
        {
          "output_type": "display_data",
          "data": {
            "image/png": "[encoded data removed]",
            "text/plain": [
              "<Figure size 432x288 with 1 Axes>"
            ]
          },
          "metadata": {
            "tags": [],
            "needs_background": "light"
          }
        }
      ]
    }
  ]
}