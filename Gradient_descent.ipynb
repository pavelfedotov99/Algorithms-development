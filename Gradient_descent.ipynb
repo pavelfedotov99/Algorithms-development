{
  "nbformat": 4,
  "nbformat_minor": 0,
  "metadata": {
    "kernelspec": {
      "display_name": "Python 3",
      "language": "python",
      "name": "python3"
    },
    "language_info": {
      "codemirror_mode": {
        "name": "ipython",
        "version": 3
      },
      "file_extension": ".py",
      "mimetype": "text/x-python",
      "name": "python",
      "nbconvert_exporter": "python",
      "pygments_lexer": "ipython3",
      "version": "3.6.11"
    },
    "colab": {
      "name": "Gradient_descent.ipynb",
      "provenance": []
    }
  },
  "cells": [
    {
      "cell_type": "code",
      "metadata": {
        "id": "ehN90NdiEIZH"
      },
      "source": [
        "import numpy as np\n",
        "import matplotlib.pyplot as plt\n",
        "import random"
      ],
      "execution_count": null,
      "outputs": []
    },
    {
      "cell_type": "code",
      "metadata": {
        "id": "pzJ8Z9bEEIZH"
      },
      "source": [
        "alpha = random.random()\n",
        "betta = random.random()\n",
        "eps = 0.001\n",
        "\n",
        "k = np.array([i for i in range(101)])\n",
        "xk = k/100\n",
        "delta = np.random.normal(0, 1, 101)\n",
        "yk = alpha*xk + betta + delta"
      ],
      "execution_count": null,
      "outputs": []
    },
    {
      "cell_type": "code",
      "metadata": {
        "id": "DTQpojUqEIZI"
      },
      "source": [
        "def linear(x,a,b):\n",
        "    return a*x+b"
      ],
      "execution_count": null,
      "outputs": []
    },
    {
      "cell_type": "code",
      "metadata": {
        "id": "sBY1xXbfEIZI"
      },
      "source": [
        "def rational(x,a,b):\n",
        "    return a/(1+b*x)"
      ],
      "execution_count": null,
      "outputs": []
    },
    {
      "cell_type": "code",
      "metadata": {
        "id": "bHCgGIutEIZI"
      },
      "source": [
        "#Gradient descent\n",
        "def GradientDescentLin(e):\n",
        "    FuncCalcs = 1\n",
        "    gamma = 0.0001\n",
        "    point = [np.array([0.1, 0.1], dtype = float)]\n",
        "    point = point + [point[-1]-gamma*grad_Dlin(point[-1][0], point[-1][1])]\n",
        "    while np.linalg.norm(point[-2] - point[-1]) > e:\n",
        "        point += [point[-1] - gamma*grad_Dlin(point[-1][0], point[-1][1])]\n",
        "        FuncCalcs += 1\n",
        "    return point[-1]"
      ],
      "execution_count": null,
      "outputs": []
    },
    {
      "cell_type": "code",
      "metadata": {
        "id": "f5oYlaR-EIZI"
      },
      "source": [
        "def GradientDescentRat(e):\n",
        "    FuncCalcs = 1\n",
        "    gamma = 0.0001\n",
        "    point = [np.array([0.1, 0.1], dtype = float)]\n",
        "    point = point + [point[-1]-gamma*grad_Drat(point[-1][0], point[-1][1])]\n",
        "    while np.linalg.norm(point[-2] - point[-1]) > e:\n",
        "        point += [point[-1] - gamma*grad_Drat(point[-1][0], point[-1][1])]\n",
        "        FuncCalcs += 1\n",
        "    return point[-1]"
      ],
      "execution_count": null,
      "outputs": []
    },
    {
      "cell_type": "code",
      "metadata": {
        "id": "1lhb1TcAEIZJ"
      },
      "source": [
        "def grad_Dlin(a, b):\n",
        "    return np.array([DerivDA(a, b), DerivDB(a, b)])"
      ],
      "execution_count": null,
      "outputs": []
    },
    {
      "cell_type": "code",
      "metadata": {
        "id": "SUAmqA4uEIZJ"
      },
      "source": [
        "def DerivDB(a, b):\n",
        "    DerivB = 2*a*np.sum(xk)-2*np.sum(yk)+2*b*101\n",
        "    return DerivB"
      ],
      "execution_count": null,
      "outputs": []
    },
    {
      "cell_type": "code",
      "metadata": {
        "id": "-UnM-QjvEIZJ"
      },
      "source": [
        "def DerivDA(a, b):\n",
        "    DerivA = 2*a*(np.sum(xk)**2)+2*b*np.sum(xk)-2*np.sum(xk)*np.sum(yk)\n",
        "    return DerivA"
      ],
      "execution_count": null,
      "outputs": []
    },
    {
      "cell_type": "code",
      "metadata": {
        "id": "L95kiD0GEIZJ"
      },
      "source": [
        "def grad_Drat(a, b):\n",
        "    return np.array([DerivRatDA(a, b), DerivRatDB(a, b)])"
      ],
      "execution_count": null,
      "outputs": []
    },
    {
      "cell_type": "code",
      "metadata": {
        "id": "h470QxGoEIZJ"
      },
      "source": [
        "def DerivRatDA(a, b):\n",
        "\treturn 2*np.sum(a/(1 + b*xk)**2 - yk/(1 + b*xk))"
      ],
      "execution_count": null,
      "outputs": []
    },
    {
      "cell_type": "code",
      "metadata": {
        "id": "qJBnQUvgEIZJ"
      },
      "source": [
        "def DerivRatDB(a, b):\n",
        "\treturn 2*np.sum(-a**2*xk/(1 + b*xk)**3 + a*xk*yk/(1 + b*xk)**2)"
      ],
      "execution_count": null,
      "outputs": []
    },
    {
      "cell_type": "code",
      "metadata": {
        "id": "tVfQBsiaEIZK",
        "outputId": "7c4d1917-7fad-409b-851a-2ef871720567"
      },
      "source": [
        "GradientDescentRat(eps)"
      ],
      "execution_count": null,
      "outputs": [
        {
          "output_type": "execute_result",
          "data": {
            "text/plain": [
              "array([ 0.91103418, -0.12023167])"
            ]
          },
          "metadata": {
            "tags": []
          },
          "execution_count": 56
        }
      ]
    },
    {
      "cell_type": "code",
      "metadata": {
        "id": "lrmpeGNXEIZK"
      },
      "source": [
        "xx1=np.empty(101)\n",
        "for i in range(101):\n",
        "    xx1[i] = rational(i/100,0.935781,-0.1404579)"
      ],
      "execution_count": null,
      "outputs": []
    },
    {
      "cell_type": "code",
      "metadata": {
        "id": "FVOEex3uEIZK",
        "outputId": "d0569ee9-bfcd-453b-81d6-57fe8ef64b2b"
      },
      "source": [
        "plt.plot(xk,yk,'o')\n",
        "plt.plot(xk,xx1)"
      ],
      "execution_count": null,
      "outputs": [
        {
          "output_type": "execute_result",
          "data": {
            "text/plain": [
              "[<matplotlib.lines.Line2D at 0x7f63aeab5e80>]"
            ]
          },
          "metadata": {
            "tags": []
          },
          "execution_count": 58
        },
        {
          "output_type": "display_data",
          "data": {
            "image/png": "[encoded data removed]",
            "text/plain": [
              "<Figure size 432x288 with 1 Axes>"
            ]
          },
          "metadata": {
            "tags": [],
            "needs_background": "light"
          }
        }
      ]
    }
  ]
}